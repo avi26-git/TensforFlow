{
  "nbformat": 4,
  "nbformat_minor": 0,
  "metadata": {
    "colab": {
      "name": "Untitled0.ipynb",
      "version": "0.3.2",
      "provenance": [],
      "include_colab_link": true
    },
    "kernelspec": {
      "name": "python3",
      "display_name": "Python 3"
    }
  },
  "cells": [
    {
      "cell_type": "markdown",
      "metadata": {
        "id": "view-in-github",
        "colab_type": "text"
      },
      "source": [
        "<a href=\"https://colab.research.google.com/github/avi26-git/TensforFlow/blob/master/GettingStarted.ipynb\" target=\"_parent\"><img src=\"https://colab.research.google.com/assets/colab-badge.svg\" alt=\"Open In Colab\"/></a>"
      ]
    },
    {
      "metadata": {
        "id": "ik3ZSHWUvEO8",
        "colab_type": "text"
      },
      "cell_type": "markdown",
      "source": [
        ""
      ]
    },
    {
      "metadata": {
        "id": "TFctaDFTvFEr",
        "colab_type": "text"
      },
      "cell_type": "markdown",
      "source": [
        "#  Starting with TensorFlow:"
      ]
    },
    {
      "metadata": {
        "id": "48_t1afqsA89",
        "colab_type": "text"
      },
      "cell_type": "markdown",
      "source": [
        "\n",
        "\n",
        "Learning Objectives:\n",
        "\n",
        "Learn fundamental TensorFlow concepts\n",
        "Use the LinearRegressor class in TensorFlow to predict median housing price, at the granularity of city blocks, based on one input feature\n",
        "Evaluate the accuracy of a model's predictions using Root Mean Squared Error (RMSE)\n",
        "Improve the accuracy of a model by tuning its hyperparameters"
      ]
    },
    {
      "metadata": {
        "id": "TtE6uHafs-g1",
        "colab_type": "text"
      },
      "cell_type": "markdown",
      "source": [
        "Loading the necessary libraries"
      ]
    },
    {
      "metadata": {
        "id": "nHx_mzSltBUw",
        "colab_type": "code",
        "colab": {}
      },
      "cell_type": "code",
      "source": [
        "from __future__ import print_function\n",
        "\n",
        "import math\n",
        "\n",
        "from IPython import display\n",
        "from matplotlib import cm\n",
        "from matplotlib import gridspec\n",
        "from matplotlib import pyplot as plt\n",
        "import numpy as np\n",
        "import pandas as pd\n",
        "from sklearn import metrics\n",
        "import tensorflow as tf\n",
        "from tensorflow.python.data import Dataset\n",
        "\n",
        "tf.logging.set_verbosity(tf.logging.ERROR)\n",
        "pd.options.display.max_rows = 10\n",
        "pd.options.display.float_format = '{:.1f}'.format"
      ],
      "execution_count": 0,
      "outputs": []
    },
    {
      "metadata": {
        "id": "-9uApQnstLsF",
        "colab_type": "text"
      },
      "cell_type": "markdown",
      "source": [
        "This housing data is based on 1990 census data from California."
      ]
    },
    {
      "metadata": {
        "id": "C7Iaah0wvSsn",
        "colab_type": "text"
      },
      "cell_type": "markdown",
      "source": [
        "# Getting and setting data"
      ]
    },
    {
      "metadata": {
        "id": "p0nY7YhttnAd",
        "colab_type": "code",
        "colab": {}
      },
      "cell_type": "code",
      "source": [
        "california_housing_dataframe = pd.read_csv(\"https://download.mlcc.google.com/mledu-datasets/california_housing_train.csv\", sep=\",\")"
      ],
      "execution_count": 0,
      "outputs": []
    },
    {
      "metadata": {
        "id": "WMV-g9litp53",
        "colab_type": "text"
      },
      "cell_type": "markdown",
      "source": [
        "This data has to be randomized just to be sure not to get any pathological ordering effects that might harm the performance of Stochastic Gradient Descent.\n",
        "Also, we'll scale median_house_value to be in units of thousands, so it can be learned a little more easily with learning rates in a range that we usually use."
      ]
    },
    {
      "metadata": {
        "id": "z9JQwVf4t4Ka",
        "colab_type": "code",
        "colab": {
          "base_uri": "https://localhost:8080/",
          "height": 439
        },
        "outputId": "4e595796-59db-425a-ff8d-0f9f4291b4b4"
      },
      "cell_type": "code",
      "source": [
        "california_housing_dataframe = california_housing_dataframe.reindex(\n",
        "    np.random.permutation(california_housing_dataframe.index))\n",
        "california_housing_dataframe[\"median_house_value\"] /= 1000.0\n",
        "california_housing_dataframe"
      ],
      "execution_count": 4,
      "outputs": [
        {
          "output_type": "execute_result",
          "data": {
            "text/html": [
              "<div>\n",
              "<style scoped>\n",
              "    .dataframe tbody tr th:only-of-type {\n",
              "        vertical-align: middle;\n",
              "    }\n",
              "\n",
              "    .dataframe tbody tr th {\n",
              "        vertical-align: top;\n",
              "    }\n",
              "\n",
              "    .dataframe thead th {\n",
              "        text-align: right;\n",
              "    }\n",
              "</style>\n",
              "<table border=\"1\" class=\"dataframe\">\n",
              "  <thead>\n",
              "    <tr style=\"text-align: right;\">\n",
              "      <th></th>\n",
              "      <th>longitude</th>\n",
              "      <th>latitude</th>\n",
              "      <th>housing_median_age</th>\n",
              "      <th>total_rooms</th>\n",
              "      <th>total_bedrooms</th>\n",
              "      <th>population</th>\n",
              "      <th>households</th>\n",
              "      <th>median_income</th>\n",
              "      <th>median_house_value</th>\n",
              "    </tr>\n",
              "  </thead>\n",
              "  <tbody>\n",
              "    <tr>\n",
              "      <th>12277</th>\n",
              "      <td>-121.5</td>\n",
              "      <td>39.5</td>\n",
              "      <td>25.0</td>\n",
              "      <td>848.0</td>\n",
              "      <td>153.0</td>\n",
              "      <td>436.0</td>\n",
              "      <td>155.0</td>\n",
              "      <td>3.9</td>\n",
              "      <td>93.8</td>\n",
              "    </tr>\n",
              "    <tr>\n",
              "      <th>8671</th>\n",
              "      <td>-118.5</td>\n",
              "      <td>34.0</td>\n",
              "      <td>39.0</td>\n",
              "      <td>2603.0</td>\n",
              "      <td>456.0</td>\n",
              "      <td>928.0</td>\n",
              "      <td>410.0</td>\n",
              "      <td>7.9</td>\n",
              "      <td>500.0</td>\n",
              "    </tr>\n",
              "    <tr>\n",
              "      <th>2632</th>\n",
              "      <td>-117.7</td>\n",
              "      <td>33.6</td>\n",
              "      <td>16.0</td>\n",
              "      <td>4277.0</td>\n",
              "      <td>565.0</td>\n",
              "      <td>1642.0</td>\n",
              "      <td>549.0</td>\n",
              "      <td>8.0</td>\n",
              "      <td>286.6</td>\n",
              "    </tr>\n",
              "    <tr>\n",
              "      <th>15467</th>\n",
              "      <td>-122.3</td>\n",
              "      <td>37.6</td>\n",
              "      <td>52.0</td>\n",
              "      <td>2351.0</td>\n",
              "      <td>494.0</td>\n",
              "      <td>1126.0</td>\n",
              "      <td>482.0</td>\n",
              "      <td>4.0</td>\n",
              "      <td>356.9</td>\n",
              "    </tr>\n",
              "    <tr>\n",
              "      <th>5175</th>\n",
              "      <td>-118.1</td>\n",
              "      <td>33.9</td>\n",
              "      <td>19.0</td>\n",
              "      <td>1793.0</td>\n",
              "      <td>447.0</td>\n",
              "      <td>1222.0</td>\n",
              "      <td>452.0</td>\n",
              "      <td>2.7</td>\n",
              "      <td>195.8</td>\n",
              "    </tr>\n",
              "    <tr>\n",
              "      <th>...</th>\n",
              "      <td>...</td>\n",
              "      <td>...</td>\n",
              "      <td>...</td>\n",
              "      <td>...</td>\n",
              "      <td>...</td>\n",
              "      <td>...</td>\n",
              "      <td>...</td>\n",
              "      <td>...</td>\n",
              "      <td>...</td>\n",
              "    </tr>\n",
              "    <tr>\n",
              "      <th>8840</th>\n",
              "      <td>-118.7</td>\n",
              "      <td>34.3</td>\n",
              "      <td>24.0</td>\n",
              "      <td>2983.0</td>\n",
              "      <td>406.0</td>\n",
              "      <td>1203.0</td>\n",
              "      <td>381.0</td>\n",
              "      <td>6.3</td>\n",
              "      <td>302.0</td>\n",
              "    </tr>\n",
              "    <tr>\n",
              "      <th>13054</th>\n",
              "      <td>-121.9</td>\n",
              "      <td>37.6</td>\n",
              "      <td>13.0</td>\n",
              "      <td>5519.0</td>\n",
              "      <td>833.0</td>\n",
              "      <td>2444.0</td>\n",
              "      <td>825.0</td>\n",
              "      <td>7.1</td>\n",
              "      <td>393.2</td>\n",
              "    </tr>\n",
              "    <tr>\n",
              "      <th>15909</th>\n",
              "      <td>-122.4</td>\n",
              "      <td>37.8</td>\n",
              "      <td>52.0</td>\n",
              "      <td>2520.0</td>\n",
              "      <td>649.0</td>\n",
              "      <td>959.0</td>\n",
              "      <td>607.0</td>\n",
              "      <td>5.8</td>\n",
              "      <td>500.0</td>\n",
              "    </tr>\n",
              "    <tr>\n",
              "      <th>15702</th>\n",
              "      <td>-122.4</td>\n",
              "      <td>37.8</td>\n",
              "      <td>52.0</td>\n",
              "      <td>157.0</td>\n",
              "      <td>28.0</td>\n",
              "      <td>88.0</td>\n",
              "      <td>27.0</td>\n",
              "      <td>3.7</td>\n",
              "      <td>162.5</td>\n",
              "    </tr>\n",
              "    <tr>\n",
              "      <th>12867</th>\n",
              "      <td>-121.8</td>\n",
              "      <td>37.3</td>\n",
              "      <td>31.0</td>\n",
              "      <td>1340.0</td>\n",
              "      <td>235.0</td>\n",
              "      <td>1336.0</td>\n",
              "      <td>270.0</td>\n",
              "      <td>4.2</td>\n",
              "      <td>179.5</td>\n",
              "    </tr>\n",
              "  </tbody>\n",
              "</table>\n",
              "<p>17000 rows × 9 columns</p>\n",
              "</div>"
            ],
            "text/plain": [
              "       longitude  latitude  housing_median_age  total_rooms  total_bedrooms  \\\n",
              "12277     -121.5      39.5                25.0        848.0           153.0   \n",
              "8671      -118.5      34.0                39.0       2603.0           456.0   \n",
              "2632      -117.7      33.6                16.0       4277.0           565.0   \n",
              "15467     -122.3      37.6                52.0       2351.0           494.0   \n",
              "5175      -118.1      33.9                19.0       1793.0           447.0   \n",
              "...          ...       ...                 ...          ...             ...   \n",
              "8840      -118.7      34.3                24.0       2983.0           406.0   \n",
              "13054     -121.9      37.6                13.0       5519.0           833.0   \n",
              "15909     -122.4      37.8                52.0       2520.0           649.0   \n",
              "15702     -122.4      37.8                52.0        157.0            28.0   \n",
              "12867     -121.8      37.3                31.0       1340.0           235.0   \n",
              "\n",
              "       population  households  median_income  median_house_value  \n",
              "12277       436.0       155.0            3.9                93.8  \n",
              "8671        928.0       410.0            7.9               500.0  \n",
              "2632       1642.0       549.0            8.0               286.6  \n",
              "15467      1126.0       482.0            4.0               356.9  \n",
              "5175       1222.0       452.0            2.7               195.8  \n",
              "...           ...         ...            ...                 ...  \n",
              "8840       1203.0       381.0            6.3               302.0  \n",
              "13054      2444.0       825.0            7.1               393.2  \n",
              "15909       959.0       607.0            5.8               500.0  \n",
              "15702        88.0        27.0            3.7               162.5  \n",
              "12867      1336.0       270.0            4.2               179.5  \n",
              "\n",
              "[17000 rows x 9 columns]"
            ]
          },
          "metadata": {
            "tags": []
          },
          "execution_count": 4
        }
      ]
    },
    {
      "metadata": {
        "id": "lHIU2mRGuV7r",
        "colab_type": "text"
      },
      "cell_type": "markdown",
      "source": [
        "Examining the data would be the next step."
      ]
    },
    {
      "metadata": {
        "id": "mNtjcsQrubob",
        "colab_type": "code",
        "colab": {
          "base_uri": "https://localhost:8080/",
          "height": 317
        },
        "outputId": "af265e0d-fc0d-4ec9-a503-4bc18b167a16"
      },
      "cell_type": "code",
      "source": [
        "california_housing_dataframe.describe()"
      ],
      "execution_count": 5,
      "outputs": [
        {
          "output_type": "execute_result",
          "data": {
            "text/html": [
              "<div>\n",
              "<style scoped>\n",
              "    .dataframe tbody tr th:only-of-type {\n",
              "        vertical-align: middle;\n",
              "    }\n",
              "\n",
              "    .dataframe tbody tr th {\n",
              "        vertical-align: top;\n",
              "    }\n",
              "\n",
              "    .dataframe thead th {\n",
              "        text-align: right;\n",
              "    }\n",
              "</style>\n",
              "<table border=\"1\" class=\"dataframe\">\n",
              "  <thead>\n",
              "    <tr style=\"text-align: right;\">\n",
              "      <th></th>\n",
              "      <th>longitude</th>\n",
              "      <th>latitude</th>\n",
              "      <th>housing_median_age</th>\n",
              "      <th>total_rooms</th>\n",
              "      <th>total_bedrooms</th>\n",
              "      <th>population</th>\n",
              "      <th>households</th>\n",
              "      <th>median_income</th>\n",
              "      <th>median_house_value</th>\n",
              "    </tr>\n",
              "  </thead>\n",
              "  <tbody>\n",
              "    <tr>\n",
              "      <th>count</th>\n",
              "      <td>17000.0</td>\n",
              "      <td>17000.0</td>\n",
              "      <td>17000.0</td>\n",
              "      <td>17000.0</td>\n",
              "      <td>17000.0</td>\n",
              "      <td>17000.0</td>\n",
              "      <td>17000.0</td>\n",
              "      <td>17000.0</td>\n",
              "      <td>17000.0</td>\n",
              "    </tr>\n",
              "    <tr>\n",
              "      <th>mean</th>\n",
              "      <td>-119.6</td>\n",
              "      <td>35.6</td>\n",
              "      <td>28.6</td>\n",
              "      <td>2643.7</td>\n",
              "      <td>539.4</td>\n",
              "      <td>1429.6</td>\n",
              "      <td>501.2</td>\n",
              "      <td>3.9</td>\n",
              "      <td>207.3</td>\n",
              "    </tr>\n",
              "    <tr>\n",
              "      <th>std</th>\n",
              "      <td>2.0</td>\n",
              "      <td>2.1</td>\n",
              "      <td>12.6</td>\n",
              "      <td>2179.9</td>\n",
              "      <td>421.5</td>\n",
              "      <td>1147.9</td>\n",
              "      <td>384.5</td>\n",
              "      <td>1.9</td>\n",
              "      <td>116.0</td>\n",
              "    </tr>\n",
              "    <tr>\n",
              "      <th>min</th>\n",
              "      <td>-124.3</td>\n",
              "      <td>32.5</td>\n",
              "      <td>1.0</td>\n",
              "      <td>2.0</td>\n",
              "      <td>1.0</td>\n",
              "      <td>3.0</td>\n",
              "      <td>1.0</td>\n",
              "      <td>0.5</td>\n",
              "      <td>15.0</td>\n",
              "    </tr>\n",
              "    <tr>\n",
              "      <th>25%</th>\n",
              "      <td>-121.8</td>\n",
              "      <td>33.9</td>\n",
              "      <td>18.0</td>\n",
              "      <td>1462.0</td>\n",
              "      <td>297.0</td>\n",
              "      <td>790.0</td>\n",
              "      <td>282.0</td>\n",
              "      <td>2.6</td>\n",
              "      <td>119.4</td>\n",
              "    </tr>\n",
              "    <tr>\n",
              "      <th>50%</th>\n",
              "      <td>-118.5</td>\n",
              "      <td>34.2</td>\n",
              "      <td>29.0</td>\n",
              "      <td>2127.0</td>\n",
              "      <td>434.0</td>\n",
              "      <td>1167.0</td>\n",
              "      <td>409.0</td>\n",
              "      <td>3.5</td>\n",
              "      <td>180.4</td>\n",
              "    </tr>\n",
              "    <tr>\n",
              "      <th>75%</th>\n",
              "      <td>-118.0</td>\n",
              "      <td>37.7</td>\n",
              "      <td>37.0</td>\n",
              "      <td>3151.2</td>\n",
              "      <td>648.2</td>\n",
              "      <td>1721.0</td>\n",
              "      <td>605.2</td>\n",
              "      <td>4.8</td>\n",
              "      <td>265.0</td>\n",
              "    </tr>\n",
              "    <tr>\n",
              "      <th>max</th>\n",
              "      <td>-114.3</td>\n",
              "      <td>42.0</td>\n",
              "      <td>52.0</td>\n",
              "      <td>37937.0</td>\n",
              "      <td>6445.0</td>\n",
              "      <td>35682.0</td>\n",
              "      <td>6082.0</td>\n",
              "      <td>15.0</td>\n",
              "      <td>500.0</td>\n",
              "    </tr>\n",
              "  </tbody>\n",
              "</table>\n",
              "</div>"
            ],
            "text/plain": [
              "       longitude  latitude  housing_median_age  total_rooms  total_bedrooms  \\\n",
              "count    17000.0   17000.0             17000.0      17000.0         17000.0   \n",
              "mean      -119.6      35.6                28.6       2643.7           539.4   \n",
              "std          2.0       2.1                12.6       2179.9           421.5   \n",
              "min       -124.3      32.5                 1.0          2.0             1.0   \n",
              "25%       -121.8      33.9                18.0       1462.0           297.0   \n",
              "50%       -118.5      34.2                29.0       2127.0           434.0   \n",
              "75%       -118.0      37.7                37.0       3151.2           648.2   \n",
              "max       -114.3      42.0                52.0      37937.0          6445.0   \n",
              "\n",
              "       population  households  median_income  median_house_value  \n",
              "count     17000.0     17000.0        17000.0             17000.0  \n",
              "mean       1429.6       501.2            3.9               207.3  \n",
              "std        1147.9       384.5            1.9               116.0  \n",
              "min           3.0         1.0            0.5                15.0  \n",
              "25%         790.0       282.0            2.6               119.4  \n",
              "50%        1167.0       409.0            3.5               180.4  \n",
              "75%        1721.0       605.2            4.8               265.0  \n",
              "max       35682.0      6082.0           15.0               500.0  "
            ]
          },
          "metadata": {
            "tags": []
          },
          "execution_count": 5
        }
      ]
    },
    {
      "metadata": {
        "id": "CD1KLTgSvZOi",
        "colab_type": "text"
      },
      "cell_type": "markdown",
      "source": [
        "#Build a model"
      ]
    },
    {
      "metadata": {
        "id": "9XGuKd-hvoYb",
        "colab_type": "text"
      },
      "cell_type": "markdown",
      "source": [
        "Let's try to predict median_house_value, which will be our label. We'll use total_rooms as our input feature.\n",
        "Using the TF Estimator API."
      ]
    },
    {
      "metadata": {
        "id": "dzlQAf89vBbH",
        "colab_type": "code",
        "colab": {}
      },
      "cell_type": "code",
      "source": [
        ""
      ],
      "execution_count": 0,
      "outputs": []
    }
  ]
}