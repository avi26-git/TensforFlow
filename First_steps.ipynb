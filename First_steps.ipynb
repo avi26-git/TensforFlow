{
  "nbformat": 4,
  "nbformat_minor": 0,
  "metadata": {
    "colab": {
      "name": "Copy of Untitled0.ipynb",
      "version": "0.3.2",
      "provenance": [],
      "toc_visible": true,
      "include_colab_link": true
    },
    "kernelspec": {
      "name": "python3",
      "display_name": "Python 3"
    }
  },
  "cells": [
    {
      "cell_type": "markdown",
      "metadata": {
        "id": "view-in-github",
        "colab_type": "text"
      },
      "source": [
        "<a href=\"https://colab.research.google.com/github/avi26-git/TensforFlow/blob/master/First_steps.ipynb\" target=\"_parent\"><img src=\"https://colab.research.google.com/assets/colab-badge.svg\" alt=\"Open In Colab\"/></a>"
      ]
    },
    {
      "metadata": {
        "id": "ik3ZSHWUvEO8",
        "colab_type": "text"
      },
      "cell_type": "markdown",
      "source": [
        ""
      ]
    },
    {
      "metadata": {
        "id": "TFctaDFTvFEr",
        "colab_type": "text"
      },
      "cell_type": "markdown",
      "source": [
        "#  Starting with TensorFlow:"
      ]
    },
    {
      "metadata": {
        "id": "48_t1afqsA89",
        "colab_type": "text"
      },
      "cell_type": "markdown",
      "source": [
        "\n",
        "\n",
        "Learning Objectives:\n",
        "\n",
        "Learn fundamental TensorFlow concepts\n",
        "Use the LinearRegressor class in TensorFlow to predict median housing price, at the granularity of city blocks, based on one input feature\n",
        "Evaluate the accuracy of a model's predictions using Root Mean Squared Error (RMSE)\n",
        "Improve the accuracy of a model by tuning its hyperparameters"
      ]
    },
    {
      "metadata": {
        "id": "TtE6uHafs-g1",
        "colab_type": "text"
      },
      "cell_type": "markdown",
      "source": [
        "Loading the necessary libraries"
      ]
    },
    {
      "metadata": {
        "id": "nHx_mzSltBUw",
        "colab_type": "code",
        "colab": {}
      },
      "cell_type": "code",
      "source": [
        "from __future__ import print_function\n",
        "\n",
        "import math\n",
        "\n",
        "from IPython import display\n",
        "from matplotlib import cm\n",
        "from matplotlib import gridspec\n",
        "from matplotlib import pyplot as plt\n",
        "import numpy as np\n",
        "import pandas as pd\n",
        "from sklearn import metrics\n",
        "import tensorflow as tf\n",
        "from tensorflow.python.data import Dataset\n",
        "\n",
        "tf.logging.set_verbosity(tf.logging.ERROR)\n",
        "pd.options.display.max_rows = 10\n",
        "pd.options.display.float_format = '{:.1f}'.format"
      ],
      "execution_count": 0,
      "outputs": []
    },
    {
      "metadata": {
        "id": "-9uApQnstLsF",
        "colab_type": "text"
      },
      "cell_type": "markdown",
      "source": [
        "This housing data is based on 1990 census data from California."
      ]
    },
    {
      "metadata": {
        "id": "C7Iaah0wvSsn",
        "colab_type": "text"
      },
      "cell_type": "markdown",
      "source": [
        "# Getting and setting data"
      ]
    },
    {
      "metadata": {
        "id": "p0nY7YhttnAd",
        "colab_type": "code",
        "colab": {}
      },
      "cell_type": "code",
      "source": [
        "california_housing_dataframe = pd.read_csv(\"https://download.mlcc.google.com/mledu-datasets/california_housing_train.csv\", sep=\",\")"
      ],
      "execution_count": 0,
      "outputs": []
    },
    {
      "metadata": {
        "id": "WMV-g9litp53",
        "colab_type": "text"
      },
      "cell_type": "markdown",
      "source": [
        "This data has to be randomized just to be sure not to get any pathological ordering effects that might harm the performance of Stochastic Gradient Descent.\n",
        "Also, we'll scale median_house_value to be in units of thousands, so it can be learned a little more easily with learning rates in a range that we usually use."
      ]
    },
    {
      "metadata": {
        "id": "z9JQwVf4t4Ka",
        "colab_type": "code",
        "outputId": "965852e2-f77b-4ede-cea3-5b3ddc70fdfd",
        "colab": {
          "base_uri": "https://localhost:8080/",
          "height": 439
        }
      },
      "cell_type": "code",
      "source": [
        "california_housing_dataframe = california_housing_dataframe.reindex(\n",
        "    np.random.permutation(california_housing_dataframe.index))\n",
        "california_housing_dataframe[\"median_house_value\"] /= 1000.0\n",
        "california_housing_dataframe"
      ],
      "execution_count": 0,
      "outputs": [
        {
          "output_type": "execute_result",
          "data": {
            "text/html": [
              "<div>\n",
              "<style scoped>\n",
              "    .dataframe tbody tr th:only-of-type {\n",
              "        vertical-align: middle;\n",
              "    }\n",
              "\n",
              "    .dataframe tbody tr th {\n",
              "        vertical-align: top;\n",
              "    }\n",
              "\n",
              "    .dataframe thead th {\n",
              "        text-align: right;\n",
              "    }\n",
              "</style>\n",
              "<table border=\"1\" class=\"dataframe\">\n",
              "  <thead>\n",
              "    <tr style=\"text-align: right;\">\n",
              "      <th></th>\n",
              "      <th>longitude</th>\n",
              "      <th>latitude</th>\n",
              "      <th>housing_median_age</th>\n",
              "      <th>total_rooms</th>\n",
              "      <th>total_bedrooms</th>\n",
              "      <th>population</th>\n",
              "      <th>households</th>\n",
              "      <th>median_income</th>\n",
              "      <th>median_house_value</th>\n",
              "    </tr>\n",
              "  </thead>\n",
              "  <tbody>\n",
              "    <tr>\n",
              "      <th>14</th>\n",
              "      <td>-114.6</td>\n",
              "      <td>32.8</td>\n",
              "      <td>15.0</td>\n",
              "      <td>1448.0</td>\n",
              "      <td>378.0</td>\n",
              "      <td>949.0</td>\n",
              "      <td>300.0</td>\n",
              "      <td>0.9</td>\n",
              "      <td>45.0</td>\n",
              "    </tr>\n",
              "    <tr>\n",
              "      <th>4113</th>\n",
              "      <td>-118.0</td>\n",
              "      <td>33.8</td>\n",
              "      <td>32.0</td>\n",
              "      <td>2161.0</td>\n",
              "      <td>432.0</td>\n",
              "      <td>1503.0</td>\n",
              "      <td>402.0</td>\n",
              "      <td>4.3</td>\n",
              "      <td>191.4</td>\n",
              "    </tr>\n",
              "    <tr>\n",
              "      <th>4795</th>\n",
              "      <td>-118.1</td>\n",
              "      <td>34.1</td>\n",
              "      <td>26.0</td>\n",
              "      <td>794.0</td>\n",
              "      <td>182.0</td>\n",
              "      <td>709.0</td>\n",
              "      <td>170.0</td>\n",
              "      <td>3.2</td>\n",
              "      <td>170.8</td>\n",
              "    </tr>\n",
              "    <tr>\n",
              "      <th>13626</th>\n",
              "      <td>-122.0</td>\n",
              "      <td>37.3</td>\n",
              "      <td>32.0</td>\n",
              "      <td>2248.0</td>\n",
              "      <td>460.0</td>\n",
              "      <td>1191.0</td>\n",
              "      <td>419.0</td>\n",
              "      <td>5.6</td>\n",
              "      <td>288.9</td>\n",
              "    </tr>\n",
              "    <tr>\n",
              "      <th>14915</th>\n",
              "      <td>-122.2</td>\n",
              "      <td>37.8</td>\n",
              "      <td>52.0</td>\n",
              "      <td>1611.0</td>\n",
              "      <td>203.0</td>\n",
              "      <td>556.0</td>\n",
              "      <td>179.0</td>\n",
              "      <td>8.7</td>\n",
              "      <td>500.0</td>\n",
              "    </tr>\n",
              "    <tr>\n",
              "      <th>...</th>\n",
              "      <td>...</td>\n",
              "      <td>...</td>\n",
              "      <td>...</td>\n",
              "      <td>...</td>\n",
              "      <td>...</td>\n",
              "      <td>...</td>\n",
              "      <td>...</td>\n",
              "      <td>...</td>\n",
              "      <td>...</td>\n",
              "    </tr>\n",
              "    <tr>\n",
              "      <th>10499</th>\n",
              "      <td>-120.4</td>\n",
              "      <td>34.9</td>\n",
              "      <td>8.0</td>\n",
              "      <td>3119.0</td>\n",
              "      <td>620.0</td>\n",
              "      <td>1159.0</td>\n",
              "      <td>544.0</td>\n",
              "      <td>3.5</td>\n",
              "      <td>165.5</td>\n",
              "    </tr>\n",
              "    <tr>\n",
              "      <th>824</th>\n",
              "      <td>-117.1</td>\n",
              "      <td>32.8</td>\n",
              "      <td>38.0</td>\n",
              "      <td>3779.0</td>\n",
              "      <td>614.0</td>\n",
              "      <td>1495.0</td>\n",
              "      <td>614.0</td>\n",
              "      <td>4.4</td>\n",
              "      <td>184.0</td>\n",
              "    </tr>\n",
              "    <tr>\n",
              "      <th>5887</th>\n",
              "      <td>-118.2</td>\n",
              "      <td>33.9</td>\n",
              "      <td>36.0</td>\n",
              "      <td>1554.0</td>\n",
              "      <td>273.0</td>\n",
              "      <td>974.0</td>\n",
              "      <td>264.0</td>\n",
              "      <td>4.2</td>\n",
              "      <td>161.4</td>\n",
              "    </tr>\n",
              "    <tr>\n",
              "      <th>9280</th>\n",
              "      <td>-119.1</td>\n",
              "      <td>36.0</td>\n",
              "      <td>27.0</td>\n",
              "      <td>1575.0</td>\n",
              "      <td>321.0</td>\n",
              "      <td>1063.0</td>\n",
              "      <td>317.0</td>\n",
              "      <td>2.1</td>\n",
              "      <td>53.9</td>\n",
              "    </tr>\n",
              "    <tr>\n",
              "      <th>9985</th>\n",
              "      <td>-119.8</td>\n",
              "      <td>36.8</td>\n",
              "      <td>16.0</td>\n",
              "      <td>2360.0</td>\n",
              "      <td>355.0</td>\n",
              "      <td>1034.0</td>\n",
              "      <td>359.0</td>\n",
              "      <td>5.1</td>\n",
              "      <td>108.5</td>\n",
              "    </tr>\n",
              "  </tbody>\n",
              "</table>\n",
              "<p>17000 rows × 9 columns</p>\n",
              "</div>"
            ],
            "text/plain": [
              "       longitude  latitude  housing_median_age  total_rooms  total_bedrooms  \\\n",
              "14        -114.6      32.8                15.0       1448.0           378.0   \n",
              "4113      -118.0      33.8                32.0       2161.0           432.0   \n",
              "4795      -118.1      34.1                26.0        794.0           182.0   \n",
              "13626     -122.0      37.3                32.0       2248.0           460.0   \n",
              "14915     -122.2      37.8                52.0       1611.0           203.0   \n",
              "...          ...       ...                 ...          ...             ...   \n",
              "10499     -120.4      34.9                 8.0       3119.0           620.0   \n",
              "824       -117.1      32.8                38.0       3779.0           614.0   \n",
              "5887      -118.2      33.9                36.0       1554.0           273.0   \n",
              "9280      -119.1      36.0                27.0       1575.0           321.0   \n",
              "9985      -119.8      36.8                16.0       2360.0           355.0   \n",
              "\n",
              "       population  households  median_income  median_house_value  \n",
              "14          949.0       300.0            0.9                45.0  \n",
              "4113       1503.0       402.0            4.3               191.4  \n",
              "4795        709.0       170.0            3.2               170.8  \n",
              "13626      1191.0       419.0            5.6               288.9  \n",
              "14915       556.0       179.0            8.7               500.0  \n",
              "...           ...         ...            ...                 ...  \n",
              "10499      1159.0       544.0            3.5               165.5  \n",
              "824        1495.0       614.0            4.4               184.0  \n",
              "5887        974.0       264.0            4.2               161.4  \n",
              "9280       1063.0       317.0            2.1                53.9  \n",
              "9985       1034.0       359.0            5.1               108.5  \n",
              "\n",
              "[17000 rows x 9 columns]"
            ]
          },
          "metadata": {
            "tags": []
          },
          "execution_count": 4
        }
      ]
    },
    {
      "metadata": {
        "id": "lHIU2mRGuV7r",
        "colab_type": "text"
      },
      "cell_type": "markdown",
      "source": [
        "Examining the data would be the next step."
      ]
    },
    {
      "metadata": {
        "id": "mNtjcsQrubob",
        "colab_type": "code",
        "outputId": "55a58437-01fb-4fca-96c6-28dea5372b8b",
        "colab": {
          "base_uri": "https://localhost:8080/",
          "height": 317
        }
      },
      "cell_type": "code",
      "source": [
        "california_housing_dataframe.describe()"
      ],
      "execution_count": 0,
      "outputs": [
        {
          "output_type": "execute_result",
          "data": {
            "text/html": [
              "<div>\n",
              "<style scoped>\n",
              "    .dataframe tbody tr th:only-of-type {\n",
              "        vertical-align: middle;\n",
              "    }\n",
              "\n",
              "    .dataframe tbody tr th {\n",
              "        vertical-align: top;\n",
              "    }\n",
              "\n",
              "    .dataframe thead th {\n",
              "        text-align: right;\n",
              "    }\n",
              "</style>\n",
              "<table border=\"1\" class=\"dataframe\">\n",
              "  <thead>\n",
              "    <tr style=\"text-align: right;\">\n",
              "      <th></th>\n",
              "      <th>longitude</th>\n",
              "      <th>latitude</th>\n",
              "      <th>housing_median_age</th>\n",
              "      <th>total_rooms</th>\n",
              "      <th>total_bedrooms</th>\n",
              "      <th>population</th>\n",
              "      <th>households</th>\n",
              "      <th>median_income</th>\n",
              "      <th>median_house_value</th>\n",
              "    </tr>\n",
              "  </thead>\n",
              "  <tbody>\n",
              "    <tr>\n",
              "      <th>count</th>\n",
              "      <td>17000.0</td>\n",
              "      <td>17000.0</td>\n",
              "      <td>17000.0</td>\n",
              "      <td>17000.0</td>\n",
              "      <td>17000.0</td>\n",
              "      <td>17000.0</td>\n",
              "      <td>17000.0</td>\n",
              "      <td>17000.0</td>\n",
              "      <td>17000.0</td>\n",
              "    </tr>\n",
              "    <tr>\n",
              "      <th>mean</th>\n",
              "      <td>-119.6</td>\n",
              "      <td>35.6</td>\n",
              "      <td>28.6</td>\n",
              "      <td>2643.7</td>\n",
              "      <td>539.4</td>\n",
              "      <td>1429.6</td>\n",
              "      <td>501.2</td>\n",
              "      <td>3.9</td>\n",
              "      <td>207.3</td>\n",
              "    </tr>\n",
              "    <tr>\n",
              "      <th>std</th>\n",
              "      <td>2.0</td>\n",
              "      <td>2.1</td>\n",
              "      <td>12.6</td>\n",
              "      <td>2179.9</td>\n",
              "      <td>421.5</td>\n",
              "      <td>1147.9</td>\n",
              "      <td>384.5</td>\n",
              "      <td>1.9</td>\n",
              "      <td>116.0</td>\n",
              "    </tr>\n",
              "    <tr>\n",
              "      <th>min</th>\n",
              "      <td>-124.3</td>\n",
              "      <td>32.5</td>\n",
              "      <td>1.0</td>\n",
              "      <td>2.0</td>\n",
              "      <td>1.0</td>\n",
              "      <td>3.0</td>\n",
              "      <td>1.0</td>\n",
              "      <td>0.5</td>\n",
              "      <td>15.0</td>\n",
              "    </tr>\n",
              "    <tr>\n",
              "      <th>25%</th>\n",
              "      <td>-121.8</td>\n",
              "      <td>33.9</td>\n",
              "      <td>18.0</td>\n",
              "      <td>1462.0</td>\n",
              "      <td>297.0</td>\n",
              "      <td>790.0</td>\n",
              "      <td>282.0</td>\n",
              "      <td>2.6</td>\n",
              "      <td>119.4</td>\n",
              "    </tr>\n",
              "    <tr>\n",
              "      <th>50%</th>\n",
              "      <td>-118.5</td>\n",
              "      <td>34.2</td>\n",
              "      <td>29.0</td>\n",
              "      <td>2127.0</td>\n",
              "      <td>434.0</td>\n",
              "      <td>1167.0</td>\n",
              "      <td>409.0</td>\n",
              "      <td>3.5</td>\n",
              "      <td>180.4</td>\n",
              "    </tr>\n",
              "    <tr>\n",
              "      <th>75%</th>\n",
              "      <td>-118.0</td>\n",
              "      <td>37.7</td>\n",
              "      <td>37.0</td>\n",
              "      <td>3151.2</td>\n",
              "      <td>648.2</td>\n",
              "      <td>1721.0</td>\n",
              "      <td>605.2</td>\n",
              "      <td>4.8</td>\n",
              "      <td>265.0</td>\n",
              "    </tr>\n",
              "    <tr>\n",
              "      <th>max</th>\n",
              "      <td>-114.3</td>\n",
              "      <td>42.0</td>\n",
              "      <td>52.0</td>\n",
              "      <td>37937.0</td>\n",
              "      <td>6445.0</td>\n",
              "      <td>35682.0</td>\n",
              "      <td>6082.0</td>\n",
              "      <td>15.0</td>\n",
              "      <td>500.0</td>\n",
              "    </tr>\n",
              "  </tbody>\n",
              "</table>\n",
              "</div>"
            ],
            "text/plain": [
              "       longitude  latitude  housing_median_age  total_rooms  total_bedrooms  \\\n",
              "count    17000.0   17000.0             17000.0      17000.0         17000.0   \n",
              "mean      -119.6      35.6                28.6       2643.7           539.4   \n",
              "std          2.0       2.1                12.6       2179.9           421.5   \n",
              "min       -124.3      32.5                 1.0          2.0             1.0   \n",
              "25%       -121.8      33.9                18.0       1462.0           297.0   \n",
              "50%       -118.5      34.2                29.0       2127.0           434.0   \n",
              "75%       -118.0      37.7                37.0       3151.2           648.2   \n",
              "max       -114.3      42.0                52.0      37937.0          6445.0   \n",
              "\n",
              "       population  households  median_income  median_house_value  \n",
              "count     17000.0     17000.0        17000.0             17000.0  \n",
              "mean       1429.6       501.2            3.9               207.3  \n",
              "std        1147.9       384.5            1.9               116.0  \n",
              "min           3.0         1.0            0.5                15.0  \n",
              "25%         790.0       282.0            2.6               119.4  \n",
              "50%        1167.0       409.0            3.5               180.4  \n",
              "75%        1721.0       605.2            4.8               265.0  \n",
              "max       35682.0      6082.0           15.0               500.0  "
            ]
          },
          "metadata": {
            "tags": []
          },
          "execution_count": 5
        }
      ]
    },
    {
      "metadata": {
        "id": "CD1KLTgSvZOi",
        "colab_type": "text"
      },
      "cell_type": "markdown",
      "source": [
        "#Build a model"
      ]
    },
    {
      "metadata": {
        "id": "9XGuKd-hvoYb",
        "colab_type": "text"
      },
      "cell_type": "markdown",
      "source": [
        "Let's try to predict median_house_value, which will be our label. We'll use total_rooms as our input feature.\n",
        "Using the TF Estimator API."
      ]
    },
    {
      "metadata": {
        "id": "a_KK3wSmsOjj",
        "colab_type": "text"
      },
      "cell_type": "markdown",
      "source": [
        "##Step 1: Define Features and Configure Feature Columns"
      ]
    },
    {
      "metadata": {
        "id": "uCs-7PsNsJu8",
        "colab_type": "text"
      },
      "cell_type": "markdown",
      "source": [
        "In order to import the training data into TensorFlow, we need to specify what type of data each feature contains. There are two main types of data:\n",
        "\n",
        "**Categorical Data:** Data that is textual. e.g., the home style, the words in a real-estate ad.\n",
        "\n",
        "**Numerical Data:** Data that is a number (integer or float) and that you want to treat as a number. Also, sometimes you might want to treat numerical data (e.g., a postal code) as if it were categorical.\n",
        "\n",
        "In TensorFlow, we indicate a feature's data type using a construct called a **feature column**. Feature columns store only a description of the feature data; they do not contain the feature data itself."
      ]
    },
    {
      "metadata": {
        "id": "nVLbk8Wbsw_y",
        "colab_type": "text"
      },
      "cell_type": "markdown",
      "source": [
        "Using just one numeric input feature, total_rooms. The following code pulls the total_rooms data from our california_housing_dataframe and defines the feature column using numeric_column, which specifies its data is numeric:"
      ]
    },
    {
      "metadata": {
        "id": "f6L0vCULsJIj",
        "colab_type": "code",
        "colab": {}
      },
      "cell_type": "code",
      "source": [
        "# Define the input feature: total_rooms.\n",
        "my_feature = california_housing_dataframe[[\"total_rooms\"]]\n",
        "\n",
        "# Configure a numeric feature column for total_rooms.\n",
        "feature_columns = [tf.feature_column.numeric_column(\"total_rooms\")]"
      ],
      "execution_count": 0,
      "outputs": []
    },
    {
      "metadata": {
        "id": "TqmvsmKjsHBY",
        "colab_type": "text"
      },
      "cell_type": "markdown",
      "source": [
        "##Step 2: Define the Target"
      ]
    },
    {
      "metadata": {
        "id": "iDjUuu3btUR2",
        "colab_type": "text"
      },
      "cell_type": "markdown",
      "source": [
        "median_house_value is the target right now."
      ]
    },
    {
      "metadata": {
        "id": "KjUeHq5mtd_U",
        "colab_type": "code",
        "colab": {}
      },
      "cell_type": "code",
      "source": [
        "# Define the label.\n",
        "targets = california_housing_dataframe[\"median_house_value\"]"
      ],
      "execution_count": 0,
      "outputs": []
    },
    {
      "metadata": {
        "id": "f-aPyWKPtiDc",
        "colab_type": "text"
      },
      "cell_type": "markdown",
      "source": [
        "##Step 3: Configure the LinearRegressor"
      ]
    },
    {
      "metadata": {
        "id": "JY4Hr2vLtkn0",
        "colab_type": "text"
      },
      "cell_type": "markdown",
      "source": [
        "To be safe, we also apply gradient clipping to our optimizer via clip_gradients_by_norm. Gradient clipping ensures the magnitude of the gradients do not become too large during training, which can cause gradient descent to fail."
      ]
    },
    {
      "metadata": {
        "id": "UNXLZQM4t37n",
        "colab_type": "code",
        "colab": {}
      },
      "cell_type": "code",
      "source": [
        "# Use gradient descent as the optimizer for training the model.\n",
        "my_optimizer=tf.train.GradientDescentOptimizer(learning_rate=0.0000001)\n",
        "my_optimizer = tf.contrib.estimator.clip_gradients_by_norm(my_optimizer, 5.0)\n",
        "\n",
        "# Configure the linear regression model with our feature columns and optimizer.\n",
        "# Set a learning rate of 0.0000001 for Gradient Descent.\n",
        "linear_regressor = tf.estimator.LinearRegressor(\n",
        "    feature_columns=feature_columns,\n",
        "    optimizer=my_optimizer\n",
        ")"
      ],
      "execution_count": 0,
      "outputs": []
    }
  ]
}